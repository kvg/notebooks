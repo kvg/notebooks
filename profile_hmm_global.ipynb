{
 "cells": [
  {
   "cell_type": "code",
   "execution_count": 195,
   "metadata": {},
   "outputs": [],
   "source": [
    "from pomegranate import *\n",
    "import matplotlib.pyplot as plot"
   ]
  },
  {
   "cell_type": "code",
   "execution_count": 178,
   "metadata": {},
   "outputs": [],
   "source": [
    "def path_to_alignment( x, y, path ):\n",
    "    \"\"\"\n",
    "    This function will take in two sequences, and the ML path which is their alignment,\n",
    "    and insert dashes appropriately to make them appear aligned. This consists only of\n",
    "    adding a dash to the model sequence for every insert in the path appropriately, and\n",
    "    a dash in the observed sequence for every delete in the path appropriately.\n",
    "    \"\"\"\n",
    "    \n",
    "    for i, (index, state) in enumerate( path[1:-1] ):\n",
    "        name = state.name\n",
    "        \n",
    "        if name.startswith( 'D' ):\n",
    "            y = y[:i] + '-' + y[i:]\n",
    "        elif name.startswith( 'I' ):\n",
    "            x = x[:i] + '-' + x[i:]\n",
    "\n",
    "    return x, y"
   ]
  },
  {
   "cell_type": "code",
   "execution_count": 211,
   "metadata": {},
   "outputs": [],
   "source": [
    "def make_model(target):\n",
    "    model = HiddenMarkovModel()\n",
    "    s = {}\n",
    "    \n",
    "    # add states\n",
    "    i0 = State(DiscreteDistribution({ 'A': 0.25, 'C': 0.25, 'G': 0.25, 'T': 0.25 }), name=\"I0\")\n",
    "    model.add_state(i0)\n",
    "\n",
    "    s[i0.name] = i0\n",
    "    \n",
    "    for c in range(len(target)):\n",
    "        dc = State(None, name=f\"D{c+1}\")\n",
    "        \n",
    "        mc = State(DiscreteDistribution({\n",
    "            \"A\": 0.94 if target[c] == 'A' else 0.02,\n",
    "            \"C\": 0.94 if target[c] == 'C' else 0.02,\n",
    "            \"G\": 0.94 if target[c] == 'G' else 0.02,\n",
    "            \"T\": 0.94 if target[c] == 'T' else 0.02,\n",
    "        }), name=f\"M{c+1}\")\n",
    "        \n",
    "        ic = State(DiscreteDistribution({ 'A': 0.25, 'C': 0.25, 'G': 0.25, 'T': 0.25 }), name=f\"I{c+1}\")\n",
    "\n",
    "        model.add_states([mc, ic, dc])\n",
    "        \n",
    "        s[dc.name] = dc\n",
    "        s[mc.name] = mc\n",
    "        s[ic.name] = ic\n",
    "        \n",
    "    # add transitions\n",
    "    model.add_transition(model.start, s['I0'], 0.05)\n",
    "    model.add_transition(model.start, s['D1'], 0.05)\n",
    "    model.add_transition(model.start, s['M1'], 0.90)\n",
    "    \n",
    "    model.add_transition(s['I0'], s['I0'], 0.70)\n",
    "    model.add_transition(s['I0'], s['D1'], 0.15)\n",
    "    model.add_transition(s['I0'], s['M1'], 0.15)\n",
    "    \n",
    "    for c in range(1, len(target)):\n",
    "        model.add_transition(s[f'D{c}'], s[f'D{c+1}'], 0.15)\n",
    "        model.add_transition(s[f'D{c}'], s[f'I{c}'],   0.70)\n",
    "        model.add_transition(s[f'D{c}'], s[f'M{c+1}'], 0.15)\n",
    "        \n",
    "        model.add_transition(s[f'I{c}'], s[f'D{c+1}'], 0.15)\n",
    "        model.add_transition(s[f'I{c}'], s[f'I{c}'],   0.15)\n",
    "        model.add_transition(s[f'I{c}'], s[f'M{c+1}'], 0.70)\n",
    "\n",
    "        model.add_transition(s[f'M{c}'], s[f'D{c+1}'], 0.05)\n",
    "        model.add_transition(s[f'M{c}'], s[f'I{c}'],   0.05)\n",
    "        model.add_transition(s[f'M{c}'], s[f'M{c+1}'], 0.90)\n",
    "    \n",
    "    model.add_transition(s[f'D{len(target)}'], s[f'I{len(target)}'], 0.70)\n",
    "    model.add_transition(s[f'D{len(target)}'], model.end, 0.30)\n",
    "\n",
    "    model.add_transition(s[f'I{len(target)}'], s[f'I{len(target)}'], 0.15)\n",
    "    model.add_transition(s[f'I{len(target)}'], model.end, 0.85)\n",
    "\n",
    "    model.add_transition(s[f'M{len(target)}'], s[f'I{len(target)}'], 0.90)\n",
    "    model.add_transition(s[f'M{len(target)}'], model.end, 0.10)\n",
    "    \n",
    "    model.bake()\n",
    "    \n",
    "    return model"
   ]
  },
  {
   "cell_type": "code",
   "execution_count": 213,
   "metadata": {},
   "outputs": [],
   "source": [
    "target = \"ACT\"\n",
    "\n",
    "model = make_model(target)"
   ]
  },
  {
   "cell_type": "code",
   "execution_count": 208,
   "metadata": {},
   "outputs": [
    {
     "name": "stdout",
     "output_type": "stream",
     "text": [
      "Sequence: A, Log Probability: -6.2640609821417215\n",
      "ACT\n",
      "A--\n",
      "\n",
      "Sequence: GA, Log Probability: -10.438429782940773\n",
      "AC-T-\n",
      "--G-A\n",
      "\n",
      "Sequence: AC, Log Probability: -4.534176916631755\n",
      "ACT\n",
      "AC-\n",
      "\n",
      "Sequence: AT, Log Probability: -6.965576412372184\n",
      "ACT-\n",
      "A--T\n",
      "\n",
      "Sequence: ATCC, Log Probability: -9.856176767823351\n",
      "ACT-\n",
      "ATCC\n",
      "\n"
     ]
    }
   ],
   "source": [
    "for sequence in map(list, ('A', 'GA', 'AC', 'AT', 'ATCC')):\n",
    "    logp, path = model.viterbi(sequence)\n",
    "    x, y = path_to_alignment(target, ''.join(sequence), path)\n",
    "    \n",
    "    print(f\"Sequence: {''.join(sequence)}, Log Probability: {logp}\")\n",
    "    print(f\"{x}\\n{y}\")\n",
    "    print(\"\")"
   ]
  },
  {
   "cell_type": "code",
   "execution_count": null,
   "metadata": {},
   "outputs": [],
   "source": []
  }
 ],
 "metadata": {
  "environment": {
   "name": "pytorch-gpu.1-4.m50",
   "type": "gcloud",
   "uri": "gcr.io/deeplearning-platform-release/pytorch-gpu.1-4:m50"
  },
  "kernelspec": {
   "display_name": "Python 3",
   "language": "python",
   "name": "python3"
  },
  "language_info": {
   "codemirror_mode": {
    "name": "ipython",
    "version": 3
   },
   "file_extension": ".py",
   "mimetype": "text/x-python",
   "name": "python",
   "nbconvert_exporter": "python",
   "pygments_lexer": "ipython3",
   "version": "3.7.6"
  }
 },
 "nbformat": 4,
 "nbformat_minor": 4
}
