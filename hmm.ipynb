{
 "cells": [
  {
   "cell_type": "code",
   "execution_count": 1,
   "metadata": {
    "collapsed": false,
    "jupyter": {
     "outputs_hidden": false
    }
   },
   "outputs": [],
   "source": [
    "%matplotlib inline"
   ]
  },
  {
   "cell_type": "code",
   "execution_count": 37,
   "metadata": {},
   "outputs": [
    {
     "name": "stdout",
     "output_type": "stream",
     "text": [
      "Requirement already satisfied: jax in /opt/conda/lib/python3.7/site-packages (0.2.8)\n",
      "Requirement already satisfied: jaxlib in /opt/conda/lib/python3.7/site-packages (0.1.59)\n",
      "Requirement already satisfied: numpyro in /opt/conda/lib/python3.7/site-packages (0.5.0)\n",
      "Requirement already satisfied: numpy in /opt/conda/lib/python3.7/site-packages (1.20.0)\n",
      "Processing /home/jupyter/.cache/pip/wheels/8e/b3/58/949691b2cbefc2cfd0f7ff1af78a1e12346daab79ea6dfbc78/jax-0.2.9-py3-none-any.whl\n",
      "Requirement already satisfied: numpy in /opt/conda/lib/python3.7/site-packages (1.20.0)\n",
      "Requirement already satisfied: opt-einsum in /opt/conda/lib/python3.7/site-packages (from jax) (3.3.0)\n",
      "Requirement already satisfied: absl-py in /opt/conda/lib/python3.7/site-packages (from jax) (0.11.0)\n",
      "Requirement already satisfied: numpy in /opt/conda/lib/python3.7/site-packages (1.20.0)\n",
      "Requirement already satisfied: flatbuffers in /opt/conda/lib/python3.7/site-packages (from jaxlib) (1.12)\n",
      "Requirement already satisfied: scipy in /opt/conda/lib/python3.7/site-packages (from jaxlib) (1.5.2)\n",
      "Requirement already satisfied: absl-py in /opt/conda/lib/python3.7/site-packages (from jax) (0.11.0)\n",
      "Requirement already satisfied: jaxlib in /opt/conda/lib/python3.7/site-packages (0.1.59)\n",
      "Requirement already satisfied: tqdm in /opt/conda/lib/python3.7/site-packages (from numpyro) (4.51.0)\n",
      "Requirement already satisfied: jax in /opt/conda/lib/python3.7/site-packages (0.2.8)\n",
      "Requirement already satisfied: numpy in /opt/conda/lib/python3.7/site-packages (1.20.0)\n",
      "Requirement already satisfied: opt-einsum in /opt/conda/lib/python3.7/site-packages (from jax) (3.3.0)\n",
      "Requirement already satisfied: absl-py in /opt/conda/lib/python3.7/site-packages (from jax) (0.11.0)\n",
      "Collecting nvidia-ml-py3\n",
      "  Downloading nvidia-ml-py3-7.352.0.tar.gz (19 kB)\n",
      "Requirement already satisfied: numpy in /opt/conda/lib/python3.7/site-packages (1.20.0)\n",
      "Requirement already satisfied: six in /opt/conda/lib/python3.7/site-packages (from absl-py->jax) (1.15.0)\n",
      "Requirement already satisfied: numpy in /opt/conda/lib/python3.7/site-packages (1.20.0)\n",
      "Building wheels for collected packages: nvidia-ml-py3\n",
      "  Building wheel for nvidia-ml-py3 (setup.py) ... \u001b[?25ldone\n",
      "\u001b[?25h  Created wheel for nvidia-ml-py3: filename=nvidia_ml_py3-7.352.0-py3-none-any.whl size=19191 sha256=7247b4f8d0d11c0414c463c58d379f61f162e1a1e18b50f23af8b99e8a86448a\n",
      "  Stored in directory: /home/jupyter/.cache/pip/wheels/df/99/da/c34f202dc8fd1dffd35e0ecf1a7d7f8374ca05fbcbaf974b83\n",
      "Successfully built nvidia-ml-py3\n",
      "Installing collected packages: nvidia-ml-py3\n",
      "Successfully installed nvidia-ml-py3-7.352.0\n"
     ]
    }
   ],
   "source": [
    "!pip install --use-feature=2020-resolver --upgrade jax jaxlib numpyro nvidia-ml-py3 numpy"
   ]
  },
  {
   "cell_type": "markdown",
   "metadata": {},
   "source": [
    "\n",
    "# Example: Hidden Markov Model\n",
    "\n",
    "In this example, we will follow [1] to construct a semi-supervised Hidden Markov\n",
    "Model for a generative model with observations are words and latent variables\n",
    "are categories. Instead of automatically marginalizing all discrete latent\n",
    "variables (as in [2]), we will use the \"forward algorithm\" (which exploits the\n",
    "conditional independent of a Markov model - see [3]) to iteratively do this\n",
    "marginalization.\n",
    "\n",
    "The semi-supervised problem is chosen instead of an unsupervised one because it\n",
    "is hard to make the inference works for an unsupervised model (see the\n",
    "discussion [4]). On the other hand, this example also illustrates the usage of\n",
    "JAX's `lax.scan` primitive. The primitive will greatly improve compiling for the\n",
    "model.\n",
    "\n",
    "**References:**\n",
    "\n",
    "    1. https://mc-stan.org/docs/2_19/stan-users-guide/hmms-section.html\n",
    "    2. http://pyro.ai/examples/hmm.html\n",
    "    3. https://en.wikipedia.org/wiki/Forward_algorithm\n",
    "    4. https://discourse.pymc.io/t/how-to-marginalized-markov-chain-with-categorical/2230\n",
    "\n",
    "<img src=\"file://../_static/img/examples/hmm.png\" align=\"center\">\n"
   ]
  },
  {
   "cell_type": "code",
   "execution_count": 29,
   "metadata": {
    "collapsed": false,
    "jupyter": {
     "outputs_hidden": false
    }
   },
   "outputs": [],
   "source": [
    "import argparse\n",
    "import os\n",
    "import time\n",
    "import sys\n",
    "\n",
    "import matplotlib.pyplot as plt\n",
    "import numpy as np\n",
    "from scipy.stats import gaussian_kde\n",
    "\n",
    "from jax import lax, random\n",
    "import jax.numpy as jnp\n",
    "from jax.scipy.special import logsumexp\n",
    "\n",
    "import numpyro\n",
    "import numpyro.distributions as dist\n",
    "from numpyro.infer import MCMC, NUTS"
   ]
  },
  {
   "cell_type": "code",
   "execution_count": 30,
   "metadata": {
    "collapsed": false,
    "jupyter": {
     "outputs_hidden": false
    }
   },
   "outputs": [],
   "source": [
    "def simulate_data(rng_key, num_categories, num_words, num_supervised_data, num_unsupervised_data):\n",
    "    rng_key, rng_key_transition, rng_key_emission = random.split(rng_key, 3)\n",
    "\n",
    "    transition_prior = jnp.ones(num_categories)\n",
    "    emission_prior = jnp.repeat(0.1, num_words)\n",
    "\n",
    "    transition_prob = dist.Dirichlet(transition_prior).sample(key=rng_key_transition,\n",
    "                                                              sample_shape=(num_categories,))\n",
    "    emission_prob = dist.Dirichlet(emission_prior).sample(key=rng_key_emission,\n",
    "                                                          sample_shape=(num_categories,))\n",
    "\n",
    "    start_prob = jnp.repeat(1. / num_categories, num_categories)\n",
    "    categories, words = [], []\n",
    "    for t in range(num_supervised_data + num_unsupervised_data):\n",
    "        rng_key, rng_key_transition, rng_key_emission = random.split(rng_key, 3)\n",
    "        if t == 0 or t == num_supervised_data:\n",
    "            category = dist.Categorical(start_prob).sample(key=rng_key_transition)\n",
    "        else:\n",
    "            category = dist.Categorical(transition_prob[category]).sample(key=rng_key_transition)\n",
    "        word = dist.Categorical(emission_prob[category]).sample(key=rng_key_emission)\n",
    "        categories.append(category)\n",
    "        words.append(word)\n",
    "\n",
    "    # split into supervised data and unsupervised data\n",
    "    categories, words = jnp.stack(categories), jnp.stack(words)\n",
    "    supervised_categories = categories[:num_supervised_data]\n",
    "    supervised_words = words[:num_supervised_data]\n",
    "    unsupervised_words = words[num_supervised_data:]\n",
    "    return (transition_prior, emission_prior, transition_prob, emission_prob,\n",
    "            supervised_categories, supervised_words, unsupervised_words)"
   ]
  },
  {
   "cell_type": "code",
   "execution_count": 31,
   "metadata": {
    "collapsed": false,
    "jupyter": {
     "outputs_hidden": false
    }
   },
   "outputs": [],
   "source": [
    "def forward_one_step(prev_log_prob, curr_word, transition_log_prob, emission_log_prob):\n",
    "    log_prob_tmp = jnp.expand_dims(prev_log_prob, axis=1) + transition_log_prob\n",
    "    log_prob = log_prob_tmp + emission_log_prob[:, curr_word]\n",
    "    return logsumexp(log_prob, axis=0)"
   ]
  },
  {
   "cell_type": "code",
   "execution_count": 32,
   "metadata": {
    "collapsed": false,
    "jupyter": {
     "outputs_hidden": false
    }
   },
   "outputs": [],
   "source": [
    "def forward_log_prob(init_log_prob, words, transition_log_prob, emission_log_prob, unroll_loop=False):\n",
    "    # Note: The following naive implementation will make it very slow to compile\n",
    "    # and do inference. So we use lax.scan instead.\n",
    "    #\n",
    "    # >>> log_prob = init_log_prob\n",
    "    # >>> for word in words:\n",
    "    # ...     log_prob = forward_one_step(log_prob, word, transition_log_prob, emission_log_prob)\n",
    "    def scan_fn(log_prob, word):\n",
    "        return forward_one_step(log_prob, word, transition_log_prob, emission_log_prob), jnp.zeros((0,))\n",
    "\n",
    "    if unroll_loop:\n",
    "        log_prob = init_log_prob\n",
    "        for word in words:\n",
    "            log_prob = forward_one_step(log_prob, word, transition_log_prob, emission_log_prob)\n",
    "    else:\n",
    "        log_prob, _ = lax.scan(scan_fn, init_log_prob, words)\n",
    "    return log_prob"
   ]
  },
  {
   "cell_type": "code",
   "execution_count": 33,
   "metadata": {
    "collapsed": false,
    "jupyter": {
     "outputs_hidden": false
    }
   },
   "outputs": [],
   "source": [
    "def semi_supervised_hmm(transition_prior, emission_prior,\n",
    "                        supervised_categories, supervised_words,\n",
    "                        unsupervised_words, unroll_loop=False):\n",
    "    num_categories, num_words = transition_prior.shape[0], emission_prior.shape[0]\n",
    "    transition_prob = numpyro.sample('transition_prob', dist.Dirichlet(\n",
    "        jnp.broadcast_to(transition_prior, (num_categories, num_categories))))\n",
    "    emission_prob = numpyro.sample('emission_prob', dist.Dirichlet(\n",
    "        jnp.broadcast_to(emission_prior, (num_categories, num_words))))\n",
    "\n",
    "    # models supervised data;\n",
    "    # here we don't make any assumption about the first supervised category, in other words,\n",
    "    # we place a flat/uniform prior on it.\n",
    "    numpyro.sample('supervised_categories', dist.Categorical(transition_prob[supervised_categories[:-1]]),\n",
    "                   obs=supervised_categories[1:])\n",
    "    numpyro.sample('supervised_words', dist.Categorical(emission_prob[supervised_categories]),\n",
    "                   obs=supervised_words)\n",
    "\n",
    "    # computes log prob of unsupervised data\n",
    "    transition_log_prob = jnp.log(transition_prob)\n",
    "    emission_log_prob = jnp.log(emission_prob)\n",
    "    init_log_prob = emission_log_prob[:, unsupervised_words[0]]\n",
    "    log_prob = forward_log_prob(init_log_prob, unsupervised_words[1:],\n",
    "                                transition_log_prob, emission_log_prob, unroll_loop)\n",
    "    log_prob = logsumexp(log_prob, axis=0, keepdims=True)\n",
    "    # inject log_prob to potential function\n",
    "    numpyro.factor('forward_log_prob', log_prob)"
   ]
  },
  {
   "cell_type": "code",
   "execution_count": 34,
   "metadata": {
    "collapsed": false,
    "jupyter": {
     "outputs_hidden": false
    }
   },
   "outputs": [],
   "source": [
    "def print_results(posterior, transition_prob, emission_prob):\n",
    "    header = semi_supervised_hmm.__name__ + ' - TRAIN'\n",
    "    columns = ['', 'ActualProb', 'Pred(p25)', 'Pred(p50)', 'Pred(p75)']\n",
    "    header_format = '{:>20} {:>10} {:>10} {:>10} {:>10}'\n",
    "    row_format = '{:>20} {:>10.2f} {:>10.2f} {:>10.2f} {:>10.2f}'\n",
    "    print('\\n', '=' * 20 + header + '=' * 20, '\\n')\n",
    "    print(header_format.format(*columns))\n",
    "\n",
    "    quantiles = np.quantile(posterior['transition_prob'], [0.25, 0.5, 0.75], axis=0)\n",
    "    for i in range(transition_prob.shape[0]):\n",
    "        for j in range(transition_prob.shape[1]):\n",
    "            idx = 'transition[{},{}]'.format(i, j)\n",
    "            print(row_format.format(idx, transition_prob[i, j], *quantiles[:, i, j]), '\\n')\n",
    "\n",
    "    quantiles = np.quantile(posterior['emission_prob'], [0.25, 0.5, 0.75], axis=0)\n",
    "    for i in range(emission_prob.shape[0]):\n",
    "        for j in range(emission_prob.shape[1]):\n",
    "            idx = 'emission[{},{}]'.format(i, j)\n",
    "            print(row_format.format(idx, emission_prob[i, j], *quantiles[:, i, j]), '\\n')"
   ]
  },
  {
   "cell_type": "code",
   "execution_count": 38,
   "metadata": {
    "collapsed": false,
    "jupyter": {
     "outputs_hidden": false
    }
   },
   "outputs": [
    {
     "name": "stdout",
     "output_type": "stream",
     "text": [
      "Simulating data...\n"
     ]
    },
    {
     "ename": "AttributeError",
     "evalue": "module 'jax' has no attribute 'core'",
     "output_type": "error",
     "traceback": [
      "\u001b[0;31m---------------------------------------------------------------------------\u001b[0m",
      "\u001b[0;31mAttributeError\u001b[0m                            Traceback (most recent call last)",
      "\u001b[0;32m<ipython-input-38-b2c8f93c4dff>\u001b[0m in \u001b[0;36m<module>\u001b[0;34m\u001b[0m\n\u001b[1;32m     57\u001b[0m     \u001b[0mnumpyro\u001b[0m\u001b[0;34m.\u001b[0m\u001b[0mset_host_device_count\u001b[0m\u001b[0;34m(\u001b[0m\u001b[0margs\u001b[0m\u001b[0;34m.\u001b[0m\u001b[0mnum_chains\u001b[0m\u001b[0;34m)\u001b[0m\u001b[0;34m\u001b[0m\u001b[0;34m\u001b[0m\u001b[0m\n\u001b[1;32m     58\u001b[0m \u001b[0;34m\u001b[0m\u001b[0m\n\u001b[0;32m---> 59\u001b[0;31m     \u001b[0mmain\u001b[0m\u001b[0;34m(\u001b[0m\u001b[0margs\u001b[0m\u001b[0;34m)\u001b[0m\u001b[0;34m\u001b[0m\u001b[0;34m\u001b[0m\u001b[0m\n\u001b[0m",
      "\u001b[0;32m<ipython-input-38-b2c8f93c4dff>\u001b[0m in \u001b[0;36mmain\u001b[0;34m(args)\u001b[0m\n\u001b[1;32m      3\u001b[0m     (transition_prior, emission_prior, transition_prob, emission_prob,\n\u001b[1;32m      4\u001b[0m      \u001b[0msupervised_categories\u001b[0m\u001b[0;34m,\u001b[0m \u001b[0msupervised_words\u001b[0m\u001b[0;34m,\u001b[0m \u001b[0munsupervised_words\u001b[0m\u001b[0;34m)\u001b[0m \u001b[0;34m=\u001b[0m \u001b[0msimulate_data\u001b[0m\u001b[0;34m(\u001b[0m\u001b[0;34m\u001b[0m\u001b[0;34m\u001b[0m\u001b[0m\n\u001b[0;32m----> 5\u001b[0;31m         \u001b[0mrandom\u001b[0m\u001b[0;34m.\u001b[0m\u001b[0mPRNGKey\u001b[0m\u001b[0;34m(\u001b[0m\u001b[0;36m1\u001b[0m\u001b[0;34m)\u001b[0m\u001b[0;34m,\u001b[0m\u001b[0;34m\u001b[0m\u001b[0;34m\u001b[0m\u001b[0m\n\u001b[0m\u001b[1;32m      6\u001b[0m         \u001b[0mnum_categories\u001b[0m\u001b[0;34m=\u001b[0m\u001b[0margs\u001b[0m\u001b[0;34m.\u001b[0m\u001b[0mnum_categories\u001b[0m\u001b[0;34m,\u001b[0m\u001b[0;34m\u001b[0m\u001b[0;34m\u001b[0m\u001b[0m\n\u001b[1;32m      7\u001b[0m         \u001b[0mnum_words\u001b[0m\u001b[0;34m=\u001b[0m\u001b[0margs\u001b[0m\u001b[0;34m.\u001b[0m\u001b[0mnum_words\u001b[0m\u001b[0;34m,\u001b[0m\u001b[0;34m\u001b[0m\u001b[0;34m\u001b[0m\u001b[0m\n",
      "\u001b[0;32m/opt/conda/lib/python3.7/site-packages/jax/_src/random.py\u001b[0m in \u001b[0;36mPRNGKey\u001b[0;34m(seed)\u001b[0m\n\u001b[1;32m     63\u001b[0m \u001b[0;34m\u001b[0m\u001b[0m\n\u001b[1;32m     64\u001b[0m   \u001b[0mconvert\u001b[0m \u001b[0;34m=\u001b[0m \u001b[0;32mlambda\u001b[0m \u001b[0mk\u001b[0m\u001b[0;34m:\u001b[0m \u001b[0mlax\u001b[0m\u001b[0;34m.\u001b[0m\u001b[0mreshape\u001b[0m\u001b[0;34m(\u001b[0m\u001b[0mlax\u001b[0m\u001b[0;34m.\u001b[0m\u001b[0mconvert_element_type\u001b[0m\u001b[0;34m(\u001b[0m\u001b[0mk\u001b[0m\u001b[0;34m,\u001b[0m \u001b[0mnp\u001b[0m\u001b[0;34m.\u001b[0m\u001b[0muint32\u001b[0m\u001b[0;34m)\u001b[0m\u001b[0;34m,\u001b[0m \u001b[0;34m[\u001b[0m\u001b[0;36m1\u001b[0m\u001b[0;34m]\u001b[0m\u001b[0;34m)\u001b[0m\u001b[0;34m\u001b[0m\u001b[0;34m\u001b[0m\u001b[0m\n\u001b[0;32m---> 65\u001b[0;31m   \u001b[0mk1\u001b[0m \u001b[0;34m=\u001b[0m \u001b[0mconvert\u001b[0m\u001b[0;34m(\u001b[0m\u001b[0mlax\u001b[0m\u001b[0;34m.\u001b[0m\u001b[0mshift_right_logical\u001b[0m\u001b[0;34m(\u001b[0m\u001b[0mseed\u001b[0m\u001b[0;34m,\u001b[0m \u001b[0mlax\u001b[0m\u001b[0;34m.\u001b[0m\u001b[0m_const\u001b[0m\u001b[0;34m(\u001b[0m\u001b[0mseed\u001b[0m\u001b[0;34m,\u001b[0m \u001b[0;36m32\u001b[0m\u001b[0;34m)\u001b[0m\u001b[0;34m)\u001b[0m\u001b[0;34m)\u001b[0m\u001b[0;34m\u001b[0m\u001b[0;34m\u001b[0m\u001b[0m\n\u001b[0m\u001b[1;32m     66\u001b[0m   \u001b[0mk2\u001b[0m \u001b[0;34m=\u001b[0m \u001b[0mconvert\u001b[0m\u001b[0;34m(\u001b[0m\u001b[0mjnp\u001b[0m\u001b[0;34m.\u001b[0m\u001b[0mbitwise_and\u001b[0m\u001b[0;34m(\u001b[0m\u001b[0mseed\u001b[0m\u001b[0;34m,\u001b[0m \u001b[0mnp\u001b[0m\u001b[0;34m.\u001b[0m\u001b[0muint32\u001b[0m\u001b[0;34m(\u001b[0m\u001b[0;36m0xFFFFFFFF\u001b[0m\u001b[0;34m)\u001b[0m\u001b[0;34m)\u001b[0m\u001b[0;34m)\u001b[0m\u001b[0;34m\u001b[0m\u001b[0;34m\u001b[0m\u001b[0m\n\u001b[1;32m     67\u001b[0m   \u001b[0;32mreturn\u001b[0m \u001b[0mlax\u001b[0m\u001b[0;34m.\u001b[0m\u001b[0mconcatenate\u001b[0m\u001b[0;34m(\u001b[0m\u001b[0;34m[\u001b[0m\u001b[0mk1\u001b[0m\u001b[0;34m,\u001b[0m \u001b[0mk2\u001b[0m\u001b[0;34m]\u001b[0m\u001b[0;34m,\u001b[0m \u001b[0;36m0\u001b[0m\u001b[0;34m)\u001b[0m\u001b[0;34m\u001b[0m\u001b[0;34m\u001b[0m\u001b[0m\n",
      "\u001b[0;32m/opt/conda/lib/python3.7/site-packages/jax/_src/lax/lax.py\u001b[0m in \u001b[0;36mshift_right_logical\u001b[0;34m(x, y)\u001b[0m\n\u001b[1;32m    380\u001b[0m \u001b[0;34m\u001b[0m\u001b[0m\n\u001b[1;32m    381\u001b[0m \u001b[0;32mdef\u001b[0m \u001b[0mshift_right_arithmetic\u001b[0m\u001b[0;34m(\u001b[0m\u001b[0mx\u001b[0m\u001b[0;34m:\u001b[0m \u001b[0mArray\u001b[0m\u001b[0;34m,\u001b[0m \u001b[0my\u001b[0m\u001b[0;34m:\u001b[0m \u001b[0mArray\u001b[0m\u001b[0;34m)\u001b[0m \u001b[0;34m->\u001b[0m \u001b[0mArray\u001b[0m\u001b[0;34m:\u001b[0m\u001b[0;34m\u001b[0m\u001b[0;34m\u001b[0m\u001b[0m\n\u001b[0;32m--> 382\u001b[0;31m   \u001b[0;34mr\"\"\"Elementwise arithmetic right shift: :math:`x \\gg y`.\"\"\"\u001b[0m\u001b[0;34m\u001b[0m\u001b[0;34m\u001b[0m\u001b[0m\n\u001b[0m\u001b[1;32m    383\u001b[0m   \u001b[0;32mreturn\u001b[0m \u001b[0mshift_right_arithmetic_p\u001b[0m\u001b[0;34m.\u001b[0m\u001b[0mbind\u001b[0m\u001b[0;34m(\u001b[0m\u001b[0mx\u001b[0m\u001b[0;34m,\u001b[0m \u001b[0my\u001b[0m\u001b[0;34m)\u001b[0m\u001b[0;34m\u001b[0m\u001b[0;34m\u001b[0m\u001b[0m\n\u001b[1;32m    384\u001b[0m \u001b[0;34m\u001b[0m\u001b[0m\n",
      "\u001b[0;32m/opt/conda/lib/python3.7/site-packages/jax/core.py\u001b[0m in \u001b[0;36mbind\u001b[0;34m(self, *args, **params)\u001b[0m\n\u001b[1;32m    280\u001b[0m     \u001b[0;32mreturn\u001b[0m \u001b[0mabstract_eval\u001b[0m\u001b[0;34m\u001b[0m\u001b[0;34m\u001b[0m\u001b[0m\n\u001b[1;32m    281\u001b[0m \u001b[0;34m\u001b[0m\u001b[0m\n\u001b[0;32m--> 282\u001b[0;31m   \u001b[0;32mdef\u001b[0m \u001b[0mdef_custom_bind\u001b[0m\u001b[0;34m(\u001b[0m\u001b[0mself\u001b[0m\u001b[0;34m,\u001b[0m \u001b[0mbind\u001b[0m\u001b[0;34m)\u001b[0m\u001b[0;34m:\u001b[0m\u001b[0;34m\u001b[0m\u001b[0;34m\u001b[0m\u001b[0m\n\u001b[0m\u001b[1;32m    283\u001b[0m     \u001b[0mself\u001b[0m\u001b[0;34m.\u001b[0m\u001b[0mbind\u001b[0m \u001b[0;34m=\u001b[0m \u001b[0mbind\u001b[0m\u001b[0;34m\u001b[0m\u001b[0;34m\u001b[0m\u001b[0m\n\u001b[1;32m    284\u001b[0m     \u001b[0;32mreturn\u001b[0m \u001b[0mbind\u001b[0m\u001b[0;34m\u001b[0m\u001b[0;34m\u001b[0m\u001b[0m\n",
      "\u001b[0;32m/opt/conda/lib/python3.7/site-packages/jax/core.py\u001b[0m in \u001b[0;36mprocess_primitive\u001b[0;34m(self, primitive, tracers, params)\u001b[0m\n\u001b[1;32m    626\u001b[0m   \u001b[0;32mdef\u001b[0m \u001b[0m__eq__\u001b[0m\u001b[0;34m(\u001b[0m\u001b[0mself\u001b[0m\u001b[0;34m,\u001b[0m \u001b[0mother\u001b[0m\u001b[0;34m:\u001b[0m \u001b[0mobject\u001b[0m\u001b[0;34m)\u001b[0m \u001b[0;34m->\u001b[0m \u001b[0mbool\u001b[0m\u001b[0;34m:\u001b[0m\u001b[0;34m\u001b[0m\u001b[0;34m\u001b[0m\u001b[0m\n\u001b[1;32m    627\u001b[0m     return (isinstance(other, MainTrace) and\n\u001b[0;32m--> 628\u001b[0;31m             \u001b[0mself\u001b[0m\u001b[0;34m.\u001b[0m\u001b[0mlevel\u001b[0m \u001b[0;34m==\u001b[0m \u001b[0mother\u001b[0m\u001b[0;34m.\u001b[0m\u001b[0mlevel\u001b[0m \u001b[0;32mand\u001b[0m\u001b[0;34m\u001b[0m\u001b[0;34m\u001b[0m\u001b[0m\n\u001b[0m\u001b[1;32m    629\u001b[0m             \u001b[0mself\u001b[0m\u001b[0;34m.\u001b[0m\u001b[0mtrace_type\u001b[0m \u001b[0;34m==\u001b[0m \u001b[0mother\u001b[0m\u001b[0;34m.\u001b[0m\u001b[0mtrace_type\u001b[0m \u001b[0;32mand\u001b[0m\u001b[0;34m\u001b[0m\u001b[0;34m\u001b[0m\u001b[0m\n\u001b[1;32m    630\u001b[0m             self.payload == other.payload)\n",
      "\u001b[0;32m/opt/conda/lib/python3.7/site-packages/jax/interpreters/xla.py\u001b[0m in \u001b[0;36mapply_primitive\u001b[0;34m(prim, *args, **params)\u001b[0m\n\u001b[1;32m    236\u001b[0m   \u001b[0;32mreturn\u001b[0m \u001b[0mcompiled_fun\u001b[0m\u001b[0;34m(\u001b[0m\u001b[0;34m*\u001b[0m\u001b[0margs\u001b[0m\u001b[0;34m)\u001b[0m\u001b[0;34m\u001b[0m\u001b[0;34m\u001b[0m\u001b[0m\n\u001b[1;32m    237\u001b[0m \u001b[0;34m\u001b[0m\u001b[0m\n\u001b[0;32m--> 238\u001b[0;31m \u001b[0;34m\u001b[0m\u001b[0m\n\u001b[0m\u001b[1;32m    239\u001b[0m \u001b[0;32mdef\u001b[0m \u001b[0m_partition_outputs\u001b[0m\u001b[0;34m(\u001b[0m\u001b[0mavals\u001b[0m\u001b[0;34m,\u001b[0m \u001b[0mouts\u001b[0m\u001b[0;34m)\u001b[0m\u001b[0;34m:\u001b[0m\u001b[0;34m\u001b[0m\u001b[0;34m\u001b[0m\u001b[0m\n\u001b[1;32m    240\u001b[0m   \u001b[0mnouts\u001b[0m \u001b[0;34m=\u001b[0m \u001b[0;34m[\u001b[0m\u001b[0maval\u001b[0m\u001b[0;34m.\u001b[0m\u001b[0m_num_buffers\u001b[0m \u001b[0;32mfor\u001b[0m \u001b[0maval\u001b[0m \u001b[0;32min\u001b[0m \u001b[0mavals\u001b[0m\u001b[0;34m]\u001b[0m\u001b[0;34m\u001b[0m\u001b[0;34m\u001b[0m\u001b[0m\n",
      "\u001b[0;32m/opt/conda/lib/python3.7/site-packages/jax/_src/util.py\u001b[0m in \u001b[0;36mwrapper\u001b[0;34m(*args, **kwargs)\u001b[0m\n\u001b[1;32m    193\u001b[0m \u001b[0;34m\u001b[0m\u001b[0m\n\u001b[1;32m    194\u001b[0m \u001b[0;32mclass\u001b[0m \u001b[0mWrapHashably\u001b[0m\u001b[0;34m(\u001b[0m\u001b[0mobject\u001b[0m\u001b[0;34m)\u001b[0m\u001b[0;34m:\u001b[0m\u001b[0;34m\u001b[0m\u001b[0;34m\u001b[0m\u001b[0m\n\u001b[0;32m--> 195\u001b[0;31m   \u001b[0m__slots__\u001b[0m \u001b[0;34m=\u001b[0m \u001b[0;34m[\u001b[0m\u001b[0;34m\"val\"\u001b[0m\u001b[0;34m]\u001b[0m\u001b[0;34m\u001b[0m\u001b[0;34m\u001b[0m\u001b[0m\n\u001b[0m\u001b[1;32m    196\u001b[0m \u001b[0;34m\u001b[0m\u001b[0m\n\u001b[1;32m    197\u001b[0m   \u001b[0;32mdef\u001b[0m \u001b[0m__init__\u001b[0m\u001b[0;34m(\u001b[0m\u001b[0mself\u001b[0m\u001b[0;34m,\u001b[0m \u001b[0mval\u001b[0m\u001b[0;34m)\u001b[0m\u001b[0;34m:\u001b[0m\u001b[0;34m\u001b[0m\u001b[0;34m\u001b[0m\u001b[0m\n",
      "\u001b[0;31mAttributeError\u001b[0m: module 'jax' has no attribute 'core'"
     ]
    }
   ],
   "source": [
    "def main(args):\n",
    "    print('Simulating data...')\n",
    "    (transition_prior, emission_prior, transition_prob, emission_prob,\n",
    "     supervised_categories, supervised_words, unsupervised_words) = simulate_data(\n",
    "        random.PRNGKey(1),\n",
    "        num_categories=args.num_categories,\n",
    "        num_words=args.num_words,\n",
    "        num_supervised_data=args.num_supervised,\n",
    "        num_unsupervised_data=args.num_unsupervised,\n",
    "    )\n",
    "    print('Starting inference...')\n",
    "    rng_key = random.PRNGKey(2)\n",
    "    start = time.time()\n",
    "    kernel = NUTS(semi_supervised_hmm)\n",
    "    mcmc = MCMC(kernel, args.num_warmup, args.num_samples, num_chains=args.num_chains,\n",
    "                progress_bar=False if \"NUMPYRO_SPHINXBUILD\" in os.environ else True)\n",
    "    mcmc.run(rng_key, transition_prior, emission_prior, supervised_categories,\n",
    "             supervised_words, unsupervised_words, args.unroll_loop)\n",
    "    samples = mcmc.get_samples()\n",
    "    print_results(samples, transition_prob, emission_prob)\n",
    "    print('\\nMCMC elapsed time:', time.time() - start)\n",
    "\n",
    "    # make plots\n",
    "    fig, ax = plt.subplots(figsize=(8, 6), constrained_layout=True)\n",
    "\n",
    "    x = np.linspace(0, 1, 101)\n",
    "    for i in range(transition_prob.shape[0]):\n",
    "        for j in range(transition_prob.shape[1]):\n",
    "            ax.plot(x, gaussian_kde(samples['transition_prob'][:, i, j])(x),\n",
    "                    label=\"trans_prob[{}, {}], true value = {:.2f}\"\n",
    "                    .format(i, j, transition_prob[i, j]))\n",
    "    ax.set(xlabel=\"Probability\", ylabel=\"Frequency\",\n",
    "           title=\"Transition probability posterior\")\n",
    "    ax.legend()\n",
    "\n",
    "    plt.savefig(\"hmm_plot.pdf\")\n",
    "\n",
    "\n",
    "if __name__ == '__main__':\n",
    "    assert numpyro.__version__.startswith('0.5.0')\n",
    "    \n",
    "    sys.argv = [\"test\"]\n",
    "    \n",
    "    parser = argparse.ArgumentParser(description='Semi-supervised Hidden Markov Model')\n",
    "    parser.add_argument('--num-categories', default=3, type=int)\n",
    "    parser.add_argument('--num-words', default=10, type=int)\n",
    "    parser.add_argument('--num-supervised', default=100, type=int)\n",
    "    parser.add_argument('--num-unsupervised', default=500, type=int)\n",
    "    parser.add_argument('-n', '--num-samples', nargs='?', default=1000, type=int)\n",
    "    parser.add_argument('--num-warmup', nargs='?', default=500, type=int)\n",
    "    parser.add_argument(\"--num-chains\", nargs='?', default=1, type=int)\n",
    "    parser.add_argument(\"--unroll-loop\", action='store_true')\n",
    "    parser.add_argument('--device', default='cpu', type=str, help='use \"cpu\" or \"gpu\".')\n",
    "    args = parser.parse_args()\n",
    "\n",
    "    numpyro.set_platform(args.device)\n",
    "    numpyro.set_host_device_count(args.num_chains)\n",
    "\n",
    "    main(args)"
   ]
  },
  {
   "cell_type": "code",
   "execution_count": null,
   "metadata": {},
   "outputs": [],
   "source": []
  }
 ],
 "metadata": {
  "environment": {
   "name": "pytorch-gpu.1-4.m50",
   "type": "gcloud",
   "uri": "gcr.io/deeplearning-platform-release/pytorch-gpu.1-4:m50"
  },
  "kernelspec": {
   "display_name": "Python 3",
   "language": "python",
   "name": "python3"
  },
  "language_info": {
   "codemirror_mode": {
    "name": "ipython",
    "version": 3
   },
   "file_extension": ".py",
   "mimetype": "text/x-python",
   "name": "python",
   "nbconvert_exporter": "python",
   "pygments_lexer": "ipython3",
   "version": "3.7.6"
  }
 },
 "nbformat": 4,
 "nbformat_minor": 4
}
