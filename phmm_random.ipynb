{
 "cells": [
  {
   "cell_type": "code",
   "execution_count": 36,
   "metadata": {},
   "outputs": [
    {
     "name": "stdout",
     "output_type": "stream",
     "text": [
      "Requirement already satisfied: numpy in /opt/conda/lib/python3.7/site-packages (1.19.2)\n",
      "Requirement already satisfied: pandas in /opt/conda/lib/python3.7/site-packages (1.1.4)\n",
      "Requirement already satisfied: python-dateutil>=2.7.3 in /opt/conda/lib/python3.7/site-packages (from pandas) (2.8.1)\n",
      "Requirement already satisfied: pytz>=2017.2 in /opt/conda/lib/python3.7/site-packages (from pandas) (2020.1)\n",
      "Requirement already satisfied: six>=1.5 in /opt/conda/lib/python3.7/site-packages (from python-dateutil>=2.7.3->pandas) (1.15.0)\n"
     ]
    }
   ],
   "source": [
    "!pip install numpy pandas"
   ]
  },
  {
   "cell_type": "code",
   "execution_count": 2,
   "metadata": {},
   "outputs": [],
   "source": [
    "import numpy as np\n",
    "import pandas as pd"
   ]
  },
  {
   "cell_type": "markdown",
   "metadata": {},
   "source": [
    "![SWPairHMMGlobal](figures/phmm_random.png)"
   ]
  },
  {
   "cell_type": "code",
   "execution_count": 3,
   "metadata": {},
   "outputs": [
    {
     "data": {
      "text/html": [
       "<div>\n",
       "<style scoped>\n",
       "    .dataframe tbody tr th:only-of-type {\n",
       "        vertical-align: middle;\n",
       "    }\n",
       "\n",
       "    .dataframe tbody tr th {\n",
       "        vertical-align: top;\n",
       "    }\n",
       "\n",
       "    .dataframe thead th {\n",
       "        text-align: right;\n",
       "    }\n",
       "</style>\n",
       "<table border=\"1\" class=\"dataframe\">\n",
       "  <thead>\n",
       "    <tr style=\"text-align: right;\">\n",
       "      <th></th>\n",
       "      <th>B</th>\n",
       "      <th>X1</th>\n",
       "      <th>a</th>\n",
       "      <th>Y1</th>\n",
       "      <th>E</th>\n",
       "    </tr>\n",
       "  </thead>\n",
       "  <tbody>\n",
       "    <tr>\n",
       "      <th>B</th>\n",
       "      <td>0.0</td>\n",
       "      <td>0.9</td>\n",
       "      <td>0.1</td>\n",
       "      <td>0.0</td>\n",
       "      <td>0.0</td>\n",
       "    </tr>\n",
       "    <tr>\n",
       "      <th>X1</th>\n",
       "      <td>0.0</td>\n",
       "      <td>0.9</td>\n",
       "      <td>0.1</td>\n",
       "      <td>0.0</td>\n",
       "      <td>0.0</td>\n",
       "    </tr>\n",
       "    <tr>\n",
       "      <th>a</th>\n",
       "      <td>0.0</td>\n",
       "      <td>0.0</td>\n",
       "      <td>0.0</td>\n",
       "      <td>0.9</td>\n",
       "      <td>0.1</td>\n",
       "    </tr>\n",
       "    <tr>\n",
       "      <th>Y1</th>\n",
       "      <td>0.0</td>\n",
       "      <td>0.0</td>\n",
       "      <td>0.0</td>\n",
       "      <td>0.9</td>\n",
       "      <td>0.1</td>\n",
       "    </tr>\n",
       "    <tr>\n",
       "      <th>E</th>\n",
       "      <td>0.0</td>\n",
       "      <td>0.0</td>\n",
       "      <td>0.0</td>\n",
       "      <td>0.0</td>\n",
       "      <td>0.0</td>\n",
       "    </tr>\n",
       "  </tbody>\n",
       "</table>\n",
       "</div>"
      ],
      "text/plain": [
       "      B   X1    a   Y1    E\n",
       "B   0.0  0.9  0.1  0.0  0.0\n",
       "X1  0.0  0.9  0.1  0.0  0.0\n",
       "a   0.0  0.0  0.0  0.9  0.1\n",
       "Y1  0.0  0.0  0.0  0.9  0.1\n",
       "E   0.0  0.0  0.0  0.0  0.0"
      ]
     },
     "execution_count": 3,
     "metadata": {},
     "output_type": "execute_result"
    }
   ],
   "source": [
    "# transition probabilities\n",
    "\n",
    "eta = 0.1\n",
    "\n",
    "a = pd.DataFrame(\n",
    "    np.array([\n",
    "        # B    X1                   a        Y1       E\n",
    "        [ 0.0, 1 - eta,             eta,     0.0,     0.0 ], # B\n",
    "        [ 0.0, 1 - eta,             eta,     0.0,     0.0 ], # X1\n",
    "        [ 0.0, 0.0,                 0.0,     1 - eta, eta ], # a\n",
    "        [ 0.0, 0.0,                 0.0,     1 - eta, eta ], # Y1\n",
    "        [ 0.0, 0.0,                 0.0,     0.0,     0.0 ]  # E\n",
    "    ]),\n",
    "    columns = ['B', 'X1', 'a', 'Y1', 'E']\n",
    ")\n",
    "a.index = ['B', 'X1', 'a', 'Y1', 'E']\n",
    "\n",
    "a"
   ]
  },
  {
   "cell_type": "code",
   "execution_count": 4,
   "metadata": {},
   "outputs": [
    {
     "data": {
      "text/plain": [
       "{'A': 0.25, 'C': 0.25, 'G': 0.25, 'T': 0.25}"
      ]
     },
     "execution_count": 4,
     "metadata": {},
     "output_type": "execute_result"
    }
   ],
   "source": [
    "# emissions (insert / delete states)\n",
    "\n",
    "eXY = {\n",
    "    'A': 0.25,\n",
    "    'C': 0.25,\n",
    "    'G': 0.25,\n",
    "    'T': 0.25\n",
    "}\n",
    "\n",
    "eXY"
   ]
  },
  {
   "cell_type": "code",
   "execution_count": 38,
   "metadata": {},
   "outputs": [],
   "source": [
    "def max_vX1(S1, S2, i, j, v_X1, v_a, v_Y1, tb):\n",
    "    q = eXY[S1[0]]\n",
    "    \n",
    "    r = np.array([\n",
    "        a.loc['X1', 'X1']*v_X1[i - 1][j]\n",
    "    ])\n",
    "    \n",
    "    mr = np.max(r)\n",
    "    mi = np.argmax(r)\n",
    "    \n",
    "    v_X1[i][j] = q*mr\n",
    "    tb[i][j] = mi\n",
    "\n",
    "def max_va(S1, S2, i, j, v_X1, v_a, v_Y1, tb):\n",
    "    q = eXY[S2[0]]\n",
    "    \n",
    "    r = np.array([\n",
    "        a.loc['X1', 'a']*v_X1[i][j - 1]\n",
    "    ])\n",
    "    \n",
    "    mr = np.max(r)\n",
    "    mi = np.argmax(r)\n",
    "    \n",
    "    v_a[i][j] = q*mr\n",
    "    tb[i][j] = mi\n",
    "\n",
    "\n",
    "def max_vY1(S1, S2, i, j, v_X1, v_a, v_Y1, tb):\n",
    "    q = eXY[S2[0]]\n",
    "    \n",
    "    r = np.array([\n",
    "        a.loc['a', 'Y1']*v_a[i][j - 1],\n",
    "        a.loc['Y1', 'Y1']*v_Y1[i][j - 1]\n",
    "    ])\n",
    "    \n",
    "    mr = np.max(r)\n",
    "    mi = np.argmax(r)\n",
    "    \n",
    "    v_Y1[i][j] = q*mr\n",
    "    tb[i][j] = mi\n",
    "\n",
    "def traceback(S1, S2, v_X1, v_a, v_Y1, tb_X1, tb_a, tb_Y1):\n",
    "    i = len(A)\n",
    "    j = len(B)\n",
    "    n = np.max([len(A), len(B)]) - 1\n",
    "    \n",
    "    r = np.array([ v_X1[i][j], v_Y1[i][j] ])\n",
    "    \n",
    "    mr = np.max(r)\n",
    "    mi = np.argmax(r)\n",
    "    \n",
    "    a1 = (n+1)*[' ']\n",
    "    a2 = (n+1)*[' ']\n",
    "            \n",
    "    while i > 0 and j > 0:\n",
    "        if mi == 0:\n",
    "            a1[n] = '-'\n",
    "            a2[n] = S2[j - 1]\n",
    "            mi = tb_X1[i][j]\n",
    "            i -= 1\n",
    "            j -= 1\n",
    "        elif mi == 1:\n",
    "            a1[n] = S1[i - 1]\n",
    "            a2[n] = '-'        \n",
    "            mi = tb_Y1[i][j]\n",
    "            i -= 1\n",
    "            \n",
    "        n -= 1\n",
    "        \n",
    "    return ''.join(a1), ''.join(a2)"
   ]
  },
  {
   "cell_type": "code",
   "execution_count": 39,
   "metadata": {},
   "outputs": [],
   "source": [
    "# Initialization\n",
    "\n",
    "## Specify sequences\n",
    "\n",
    "A = \"TTTCAACG\"\n",
    "B = \"ACG\"\n",
    "\n",
    "## Viterbi matrices\n",
    "\n",
    "vX1 = np.zeros([len(A)+1, len(B)+1])\n",
    "va  = np.zeros([len(A)+1, len(B)+1])\n",
    "vY1 = np.zeros([len(A)+1, len(B)+1])\n",
    "\n",
    "vX1[0,0] = 1\n",
    "va[0,0]  = 0\n",
    "vY1[0,0] = 0\n",
    "\n",
    "## Traceback matrices\n",
    "\n",
    "tX1 = np.zeros([len(A)+1, len(B)+1])\n",
    "ta  = np.zeros([len(A)+1, len(B)+1])\n",
    "tY1 = np.zeros([len(A)+1, len(B)+1])"
   ]
  },
  {
   "cell_type": "code",
   "execution_count": 40,
   "metadata": {},
   "outputs": [],
   "source": [
    "# Populate Viterbi matrices\n",
    "\n",
    "for i in range(1, len(A)+1):\n",
    "    for j in range(1, len(B)+1):\n",
    "        max_vX1(A, B, i, j, vM, vX, vY, tX)\n",
    "        max_va(A, B, i, j, vM, vX, vY, tM)\n",
    "        max_vY1(A, B, i, j, vM, vX, vY, tY)"
   ]
  },
  {
   "cell_type": "code",
   "execution_count": 42,
   "metadata": {},
   "outputs": [],
   "source": [
    "# Follow traceback matrices\n",
    "\n",
    "a1, a2 = traceback(A, B, vM, vX, vY, tM, tX, tY)"
   ]
  },
  {
   "cell_type": "code",
   "execution_count": 44,
   "metadata": {},
   "outputs": [
    {
     "name": "stdout",
     "output_type": "stream",
     "text": [
      "TTACG\n",
      "T-A-G\n"
     ]
    }
   ],
   "source": [
    "# Print alignment\n",
    "\n",
    "print(a1)\n",
    "print(a2)"
   ]
  },
  {
   "cell_type": "code",
   "execution_count": null,
   "metadata": {},
   "outputs": [],
   "source": []
  }
 ],
 "metadata": {
  "environment": {
   "name": "pytorch-gpu.1-4.m50",
   "type": "gcloud",
   "uri": "gcr.io/deeplearning-platform-release/pytorch-gpu.1-4:m50"
  },
  "kernelspec": {
   "display_name": "Python 3",
   "language": "python",
   "name": "python3"
  },
  "language_info": {
   "codemirror_mode": {
    "name": "ipython",
    "version": 3
   },
   "file_extension": ".py",
   "mimetype": "text/x-python",
   "name": "python",
   "nbconvert_exporter": "python",
   "pygments_lexer": "ipython3",
   "version": "3.7.6"
  }
 },
 "nbformat": 4,
 "nbformat_minor": 4
}
