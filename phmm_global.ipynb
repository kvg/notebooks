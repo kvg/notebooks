{
 "cells": [
  {
   "cell_type": "code",
   "execution_count": 1,
   "metadata": {},
   "outputs": [
    {
     "name": "stdout",
     "output_type": "stream",
     "text": [
      "Requirement already satisfied: numpy in /opt/conda/lib/python3.7/site-packages (1.19.2)\n",
      "Requirement already satisfied: pandas in /opt/conda/lib/python3.7/site-packages (1.1.4)\n",
      "Requirement already satisfied: python-dateutil>=2.7.3 in /opt/conda/lib/python3.7/site-packages (from pandas) (2.8.1)\n",
      "Requirement already satisfied: pytz>=2017.2 in /opt/conda/lib/python3.7/site-packages (from pandas) (2020.1)\n",
      "Requirement already satisfied: six>=1.5 in /opt/conda/lib/python3.7/site-packages (from python-dateutil>=2.7.3->pandas) (1.15.0)\n"
     ]
    }
   ],
   "source": [
    "!pip install numpy pandas"
   ]
  },
  {
   "cell_type": "code",
   "execution_count": 2,
   "metadata": {},
   "outputs": [],
   "source": [
    "import numpy as np\n",
    "import pandas as pd"
   ]
  },
  {
   "cell_type": "markdown",
   "metadata": {},
   "source": [
    "![SWPairHMMGlobal](figures/phmm_global.png)"
   ]
  },
  {
   "cell_type": "code",
   "execution_count": 3,
   "metadata": {},
   "outputs": [],
   "source": [
    "# transition probabilities\n",
    "\n",
    "delta = 0.2\n",
    "tau = 0.1\n",
    "epsilon = 0.1"
   ]
  },
  {
   "cell_type": "code",
   "execution_count": 4,
   "metadata": {},
   "outputs": [
    {
     "data": {
      "text/html": [
       "<div>\n",
       "<style scoped>\n",
       "    .dataframe tbody tr th:only-of-type {\n",
       "        vertical-align: middle;\n",
       "    }\n",
       "\n",
       "    .dataframe tbody tr th {\n",
       "        vertical-align: top;\n",
       "    }\n",
       "\n",
       "    .dataframe thead th {\n",
       "        text-align: right;\n",
       "    }\n",
       "</style>\n",
       "<table border=\"1\" class=\"dataframe\">\n",
       "  <thead>\n",
       "    <tr style=\"text-align: right;\">\n",
       "      <th></th>\n",
       "      <th>B</th>\n",
       "      <th>M</th>\n",
       "      <th>X</th>\n",
       "      <th>Y</th>\n",
       "      <th>E</th>\n",
       "    </tr>\n",
       "  </thead>\n",
       "  <tbody>\n",
       "    <tr>\n",
       "      <th>B</th>\n",
       "      <td>0.0</td>\n",
       "      <td>0.5</td>\n",
       "      <td>0.2</td>\n",
       "      <td>0.2</td>\n",
       "      <td>0.1</td>\n",
       "    </tr>\n",
       "    <tr>\n",
       "      <th>M</th>\n",
       "      <td>0.0</td>\n",
       "      <td>0.5</td>\n",
       "      <td>0.2</td>\n",
       "      <td>0.2</td>\n",
       "      <td>0.1</td>\n",
       "    </tr>\n",
       "    <tr>\n",
       "      <th>X</th>\n",
       "      <td>0.0</td>\n",
       "      <td>0.8</td>\n",
       "      <td>0.1</td>\n",
       "      <td>0.0</td>\n",
       "      <td>0.1</td>\n",
       "    </tr>\n",
       "    <tr>\n",
       "      <th>Y</th>\n",
       "      <td>0.0</td>\n",
       "      <td>0.8</td>\n",
       "      <td>0.0</td>\n",
       "      <td>0.1</td>\n",
       "      <td>0.1</td>\n",
       "    </tr>\n",
       "    <tr>\n",
       "      <th>E</th>\n",
       "      <td>0.0</td>\n",
       "      <td>0.0</td>\n",
       "      <td>0.0</td>\n",
       "      <td>0.0</td>\n",
       "      <td>0.0</td>\n",
       "    </tr>\n",
       "  </tbody>\n",
       "</table>\n",
       "</div>"
      ],
      "text/plain": [
       "     B    M    X    Y    E\n",
       "B  0.0  0.5  0.2  0.2  0.1\n",
       "M  0.0  0.5  0.2  0.2  0.1\n",
       "X  0.0  0.8  0.1  0.0  0.1\n",
       "Y  0.0  0.8  0.0  0.1  0.1\n",
       "E  0.0  0.0  0.0  0.0  0.0"
      ]
     },
     "execution_count": 4,
     "metadata": {},
     "output_type": "execute_result"
    }
   ],
   "source": [
    "# transition matrix\n",
    "\n",
    "a = pd.DataFrame(\n",
    "    np.array([\n",
    "        # B    M                    X        Y        E\n",
    "        [ 0.0, 1 - (2*delta) - tau, delta,   delta,   tau ], # B\n",
    "        [ 0.0, 1 - (2*delta) - tau, delta,   delta,   tau ], # M\n",
    "        [ 0.0, 1 - epsilon - tau,   epsilon, 0.0,     tau ], # X\n",
    "        [ 0.0, 1 - epsilon - tau,   0.0,     epsilon, tau ], # Y\n",
    "        [ 0.0, 0.0,                 0.0,     0.0,     0.0 ]  # E\n",
    "    ]),\n",
    "    columns = ['B', 'M', 'X', 'Y', 'E']\n",
    ")\n",
    "a.index = ['B', 'M', 'X', 'Y', 'E']\n",
    "\n",
    "a"
   ]
  },
  {
   "cell_type": "code",
   "execution_count": 5,
   "metadata": {},
   "outputs": [
    {
     "data": {
      "text/html": [
       "<div>\n",
       "<style scoped>\n",
       "    .dataframe tbody tr th:only-of-type {\n",
       "        vertical-align: middle;\n",
       "    }\n",
       "\n",
       "    .dataframe tbody tr th {\n",
       "        vertical-align: top;\n",
       "    }\n",
       "\n",
       "    .dataframe thead th {\n",
       "        text-align: right;\n",
       "    }\n",
       "</style>\n",
       "<table border=\"1\" class=\"dataframe\">\n",
       "  <thead>\n",
       "    <tr style=\"text-align: right;\">\n",
       "      <th></th>\n",
       "      <th>A</th>\n",
       "      <th>C</th>\n",
       "      <th>G</th>\n",
       "      <th>T</th>\n",
       "    </tr>\n",
       "  </thead>\n",
       "  <tbody>\n",
       "    <tr>\n",
       "      <th>A</th>\n",
       "      <td>0.50</td>\n",
       "      <td>0.05</td>\n",
       "      <td>0.15</td>\n",
       "      <td>0.30</td>\n",
       "    </tr>\n",
       "    <tr>\n",
       "      <th>C</th>\n",
       "      <td>0.05</td>\n",
       "      <td>0.50</td>\n",
       "      <td>0.30</td>\n",
       "      <td>0.15</td>\n",
       "    </tr>\n",
       "    <tr>\n",
       "      <th>G</th>\n",
       "      <td>0.15</td>\n",
       "      <td>0.30</td>\n",
       "      <td>0.50</td>\n",
       "      <td>0.05</td>\n",
       "    </tr>\n",
       "    <tr>\n",
       "      <th>T</th>\n",
       "      <td>0.30</td>\n",
       "      <td>0.15</td>\n",
       "      <td>0.05</td>\n",
       "      <td>0.50</td>\n",
       "    </tr>\n",
       "  </tbody>\n",
       "</table>\n",
       "</div>"
      ],
      "text/plain": [
       "      A     C     G     T\n",
       "A  0.50  0.05  0.15  0.30\n",
       "C  0.05  0.50  0.30  0.15\n",
       "G  0.15  0.30  0.50  0.05\n",
       "T  0.30  0.15  0.05  0.50"
      ]
     },
     "execution_count": 5,
     "metadata": {},
     "output_type": "execute_result"
    }
   ],
   "source": [
    "# emissions (match state)\n",
    "\n",
    "eM = pd.DataFrame(\n",
    "    np.array([\n",
    "        # A     C     G     T\n",
    "        [ 0.50, 0.05, 0.15, 0.30 ], # A\n",
    "        [ 0.05, 0.50, 0.30, 0.15 ], # C\n",
    "        [ 0.15, 0.30, 0.50, 0.05 ], # G\n",
    "        [ 0.30, 0.15, 0.05, 0.50 ]  # T\n",
    "    ]),\n",
    "    columns = ['A', 'C', 'G', 'T']\n",
    ")\n",
    "eM.index = ['A', 'C', 'G', 'T']\n",
    "\n",
    "eM"
   ]
  },
  {
   "cell_type": "code",
   "execution_count": 6,
   "metadata": {},
   "outputs": [
    {
     "data": {
      "text/plain": [
       "{'A': 0.25, 'C': 0.25, 'G': 0.25, 'T': 0.25}"
      ]
     },
     "execution_count": 6,
     "metadata": {},
     "output_type": "execute_result"
    }
   ],
   "source": [
    "# emissions (insert / delete states)\n",
    "\n",
    "eXY = {\n",
    "    'A': 0.25,\n",
    "    'C': 0.25,\n",
    "    'G': 0.25,\n",
    "    'T': 0.25\n",
    "}\n",
    "\n",
    "eXY"
   ]
  },
  {
   "cell_type": "markdown",
   "metadata": {},
   "source": [
    "Initialization:\n",
    "\n",
    "\\begin{equation*}\n",
    "\\begin{aligned}[c]\n",
    "v(0) & = 0~\\forall~k > 0\n",
    "\\end{aligned}\n",
    "\\qquad\\Longleftrightarrow\\qquad\n",
    "\\begin{aligned}[c]\n",
    "v^M(0,0)=1\\\\\n",
    "v^{*}(i,0)=v^{*}(0,j)=0\n",
    "\\end{aligned}\n",
    "\\end{equation*}\n",
    "\n",
    "Recurrence ($i = 1 ... L$):\n",
    "\n",
    "\\begin{equation*}\n",
    "\\begin{aligned}[c]\n",
    "v_l(i) & = e_l(x_i) \\text{max}_k(a_{kl}v_k(i-1)) \\\\\n",
    "\\text{ptr}_i(l) & = \\text{argmax}_k(a_{kl}v_k(i-1))\n",
    "\\end{aligned}\n",
    "\\qquad\\Longleftrightarrow\\qquad\n",
    "\\begin{aligned}[c]\n",
    "v^M(i,j)&=p_{{x_i}{y_j}}\\text{max}\n",
    "\\begin{cases} \n",
    "      (1-2\\delta-\\tau)v^M(i-1,j-1) \\\\\n",
    "      (1-\\epsilon-\\tau)v^X(i-1,j-1) \\\\\n",
    "      (1-\\epsilon-\\tau)v^Y(i-1,j-1) \\\\\n",
    "\\end{cases}\\\\\n",
    "v^X(i,j)&=q_{{x_i}}\\text{max}\n",
    "\\begin{cases} \n",
    "      \\delta v^M(i-1,j) \\\\\n",
    "      \\epsilon v^X(i-1,j) \\\\\n",
    "\\end{cases}\\\\\n",
    "v^Y(i,j)&=q_{{y_i}}\\text{max}\n",
    "\\begin{cases} \n",
    "      \\delta v^M(i,j-1) \\\\\n",
    "      \\epsilon v^Y(i,j-1) \\\\\n",
    "\\end{cases}\\\\\n",
    "\\end{aligned}\n",
    "\\end{equation*}\n",
    "\n",
    "Termination:\n",
    "\n",
    "\\begin{equation*}\n",
    "\\begin{aligned}[c]\n",
    "{\\textbf{P}}(x, \\pi^*) & = \\text{max}_k(a_{k0}v_k(L)) \\\\\n",
    "\\pi^*_L & = \\text{argmax}_k(a_{k0}v_k(L))\n",
    "\\end{aligned}\n",
    "\\qquad\\Longleftrightarrow\\qquad\n",
    "\\begin{aligned}[c]\n",
    "v^E = \\tau \\text{max}(v^M(n,m),v^X(n,m),v^Y(n,m))\n",
    "\\end{aligned}\n",
    "\\end{equation*}\n",
    "\n",
    "Traceback ($i = 1 ... L$):\n",
    "\n",
    "\\begin{equation*}\n",
    "\\begin{aligned}[c]\n",
    "\\pi^*_{i-1} = \\text{ptr}_i(\\pi^*_i)\n",
    "\\end{aligned}\n",
    "\\qquad\\Longleftrightarrow\\qquad\n",
    "\\begin{aligned}[c]\n",
    "\\end{aligned}\n",
    "\\end{equation*}"
   ]
  },
  {
   "cell_type": "markdown",
   "metadata": {},
   "source": [
    "![max_VM](figures/viterbi1.png)"
   ]
  },
  {
   "cell_type": "code",
   "execution_count": 7,
   "metadata": {},
   "outputs": [],
   "source": [
    "def max_vM(S1, S2, i, j, v_M, v_X, v_Y, tb):\n",
    "    p = eM.loc[S1[i - 1], S2[j - 1]]\n",
    "\n",
    "    r = np.array([\n",
    "        a.loc['M', 'M']*v_M[i - 1][j - 1],\n",
    "        a.loc['X', 'M']*v_X[i - 1][j - 1],\n",
    "        a.loc['Y', 'M']*v_Y[i - 1][j - 1]\n",
    "    ])\n",
    "    \n",
    "    mr = np.max(r)\n",
    "    mi = np.argmax(r)\n",
    "\n",
    "    v_M[i][j] = p*mr\n",
    "    tb[i][j] = mi"
   ]
  },
  {
   "cell_type": "markdown",
   "metadata": {},
   "source": [
    "![max_VM](figures/viterbi2.png)"
   ]
  },
  {
   "cell_type": "code",
   "execution_count": 8,
   "metadata": {},
   "outputs": [],
   "source": [
    "def max_vX(S1, S2, i, j, v_M, v_X, v_Y, tb):\n",
    "    q = eXY[S1[0]]\n",
    "    \n",
    "    r = np.array([\n",
    "        a.loc['M', 'X']*v_M[i - 1][j],\n",
    "        a.loc['X', 'X']*v_X[i - 1][j],\n",
    "        0\n",
    "    ])\n",
    "    \n",
    "    mr = np.max(r)\n",
    "    mi = np.argmax(r)\n",
    "    \n",
    "    v_X[i][j] = q*mr\n",
    "    tb[i][j] = mi"
   ]
  },
  {
   "cell_type": "markdown",
   "metadata": {},
   "source": [
    "![max_VM](figures/viterbi3.png)"
   ]
  },
  {
   "cell_type": "code",
   "execution_count": 9,
   "metadata": {},
   "outputs": [],
   "source": [
    "def max_vY(S1, S2, i, j, v_M, v_X, v_Y, tb):\n",
    "    q = eXY[S2[0]]\n",
    "    \n",
    "    r = np.array([\n",
    "        a.loc['M', 'Y']*v_M[i][j - 1],\n",
    "        0,\n",
    "        a.loc['Y', 'Y']*v_Y[i][j - 1]\n",
    "    ])\n",
    "    \n",
    "    mr = np.max(r)\n",
    "    mi = np.argmax(r)\n",
    "    \n",
    "    v_Y[i][j] = q*mr\n",
    "    tb[i][j] = mi\n",
    "    "
   ]
  },
  {
   "cell_type": "code",
   "execution_count": 10,
   "metadata": {},
   "outputs": [],
   "source": [
    "def traceback(S1, S2, v_M, v_X, v_Y, tb_M, tb_X, tb_Y):\n",
    "    i = len(S1)\n",
    "    j = len(S2)\n",
    "    n = np.max([len(S1), len(S2)]) - 1\n",
    "    \n",
    "    r = np.array([ v_M[i][j], v_X[i][j], v_Y[i][j] ])\n",
    "    \n",
    "    mr = np.max(r)\n",
    "    mi = np.argmax(r)\n",
    "    \n",
    "    a1 = (n+1)*[' ']\n",
    "    a2 = (n+1)*[' ']\n",
    "            \n",
    "    while i > 0 and j > 0:        \n",
    "        if mi == 0:\n",
    "            a1[n] = S1[i - 1]\n",
    "            a2[n] = S2[j - 1]\n",
    "            mi = tb_M[i][j]\n",
    "            i -= 1\n",
    "            j -= 1            \n",
    "        elif mi == 1:\n",
    "            a1[n] = S1[i - 1]\n",
    "            a2[n] = '-'        \n",
    "            mi = tb_X[i][j]\n",
    "            i -= 1\n",
    "        elif mi == 2:\n",
    "            a1[n] = '-'\n",
    "            a2[n] = S2[j - 1]\n",
    "            mi = tb_Y[i][j]\n",
    "            j -= 1\n",
    "            \n",
    "        n -= 1\n",
    "        \n",
    "    return ''.join(a1), ''.join(a2)"
   ]
  },
  {
   "cell_type": "code",
   "execution_count": 11,
   "metadata": {},
   "outputs": [],
   "source": [
    "# Initialization\n",
    "\n",
    "## Specify sequences\n",
    "\n",
    "A = \"TTACG\"\n",
    "B = \"TAG\"\n",
    "\n",
    "## Viterbi matrices\n",
    "\n",
    "vM = np.zeros([len(A)+1, len(B)+1])\n",
    "vX = np.zeros([len(A)+1, len(B)+1])\n",
    "vY = np.zeros([len(A)+1, len(B)+1])\n",
    "\n",
    "vM[0,0] = 1\n",
    "\n",
    "## Traceback matrices\n",
    "\n",
    "tM = np.zeros([len(A)+1, len(B)+1])\n",
    "tX = np.zeros([len(A)+1, len(B)+1])\n",
    "tY = np.zeros([len(A)+1, len(B)+1])"
   ]
  },
  {
   "cell_type": "code",
   "execution_count": 12,
   "metadata": {},
   "outputs": [],
   "source": [
    "# Populate Viterbi matrices\n",
    "\n",
    "for i in range(1, len(A)+1):\n",
    "    for j in range(1, len(B)+1):\n",
    "        max_vM(A, B, i, j, vM, vX, vY, tM)\n",
    "        max_vX(A, B, i, j, vM, vX, vY, tX)\n",
    "        max_vY(A, B, i, j, vM, vX, vY, tY)"
   ]
  },
  {
   "cell_type": "code",
   "execution_count": 13,
   "metadata": {},
   "outputs": [],
   "source": [
    "# Follow traceback matrices\n",
    "\n",
    "a1, a2 = traceback(A, B, vM, vX, vY, tM, tX, tY)"
   ]
  },
  {
   "cell_type": "code",
   "execution_count": 14,
   "metadata": {},
   "outputs": [
    {
     "name": "stdout",
     "output_type": "stream",
     "text": [
      "TTACG\n",
      "TAG\n"
     ]
    }
   ],
   "source": [
    "# Print original sequences\n",
    "\n",
    "print(A)\n",
    "print(B)"
   ]
  },
  {
   "cell_type": "code",
   "execution_count": 15,
   "metadata": {},
   "outputs": [
    {
     "name": "stdout",
     "output_type": "stream",
     "text": [
      "TTACG\n",
      "T-A-G\n"
     ]
    }
   ],
   "source": [
    "# Print alignment\n",
    "\n",
    "print(a1)\n",
    "print(a2)"
   ]
  },
  {
   "cell_type": "code",
   "execution_count": 16,
   "metadata": {},
   "outputs": [
    {
     "name": "stdout",
     "output_type": "stream",
     "text": [
      "vM:\n",
      "[[1.0000e+00 0.0000e+00 0.0000e+00 0.0000e+00 0.0000e+00 0.0000e+00]\n",
      " [0.0000e+00 2.5000e-01 0.0000e+00 0.0000e+00 0.0000e+00 0.0000e+00]\n",
      " [0.0000e+00 0.0000e+00 3.7500e-02 5.0000e-03 1.2500e-05 9.3750e-07]\n",
      " [0.0000e+00 0.0000e+00 5.0000e-04 2.8125e-03 7.5000e-04 1.0000e-04]]\n",
      "vX:\n",
      "[[0.000000e+00 0.000000e+00 0.000000e+00 0.000000e+00 0.000000e+00 0.000000e+00]\n",
      " [0.000000e+00 0.000000e+00 1.250000e-02 3.125000e-04 7.812500e-06 1.953125e-07]\n",
      " [0.000000e+00 0.000000e+00 0.000000e+00 1.875000e-03 2.500000e-04 6.250000e-06]\n",
      " [0.000000e+00 0.000000e+00 0.000000e+00 2.500000e-05 1.406250e-04 3.750000e-05]]\n",
      "vY:\n",
      "[[0.0000e+00 0.0000e+00 0.0000e+00 0.0000e+00 0.0000e+00 0.0000e+00]\n",
      " [0.0000e+00 0.0000e+00 0.0000e+00 0.0000e+00 0.0000e+00 0.0000e+00]\n",
      " [0.0000e+00 1.2500e-02 0.0000e+00 0.0000e+00 0.0000e+00 0.0000e+00]\n",
      " [0.0000e+00 3.1250e-04 1.8750e-03 2.5000e-04 6.2500e-07 4.6875e-08]]\n"
     ]
    }
   ],
   "source": [
    "np.set_printoptions(linewidth=200)\n",
    "\n",
    "print(\"vM:\")\n",
    "print(np.transpose(vM))\n",
    "\n",
    "print(\"vX:\")\n",
    "print(np.transpose(vX))\n",
    "\n",
    "print(\"vY:\")\n",
    "print(np.transpose(vY))"
   ]
  },
  {
   "cell_type": "code",
   "execution_count": 17,
   "metadata": {},
   "outputs": [
    {
     "name": "stdout",
     "output_type": "stream",
     "text": [
      "tM:\n",
      "[[0. 0. 0. 0. 0. 0.]\n",
      " [0. 0. 0. 0. 0. 0.]\n",
      " [0. 0. 0. 1. 1. 1.]\n",
      " [0. 0. 2. 0. 0. 1.]]\n",
      "tX:\n",
      "[[0. 0. 0. 0. 0. 0.]\n",
      " [0. 0. 0. 1. 1. 1.]\n",
      " [0. 0. 0. 0. 0. 1.]\n",
      " [0. 0. 0. 0. 0. 0.]]\n",
      "tY:\n",
      "[[0. 0. 0. 0. 0. 0.]\n",
      " [0. 0. 0. 0. 0. 0.]\n",
      " [0. 0. 0. 0. 0. 0.]\n",
      " [0. 2. 0. 0. 0. 0.]]\n"
     ]
    }
   ],
   "source": [
    "print(\"tM:\")\n",
    "print(np.transpose(tM))\n",
    "\n",
    "print(\"tX:\")\n",
    "print(np.transpose(tX))\n",
    "\n",
    "print(\"tY:\")\n",
    "print(np.transpose(tY))"
   ]
  },
  {
   "cell_type": "code",
   "execution_count": 18,
   "metadata": {},
   "outputs": [],
   "source": [
    "# tM:\n",
    "# [[0. 0. 0. 0. 0. 0.]\n",
    "#  [0. 0. 0. 0. 0. 0.]\n",
    "#  [0. 0. 0. 1. 1. 1.]\n",
    "#  [0. 0. 2. 0. 0. 1.]]\n",
    "# tX:\n",
    "# [[0. 0. 0. 0. 0. 0.]\n",
    "#  [0. 0. 0. 1. 1. 1.]\n",
    "#  [0. 0. 0. 0. 0. 1.]\n",
    "#  [0. 0. 0. 0. 0. 0.]]\n",
    "# tY:\n",
    "# [[0. 0. 0. 0. 0. 0.]\n",
    "#  [0. 0. 0. 0. 0. 0.]\n",
    "#  [0. 0. 0. 0. 0. 0.]\n",
    "#  [0. 1. 0. 0. 0. 0.]]\n"
   ]
  }
 ],
 "metadata": {
  "environment": {
   "name": "pytorch-gpu.1-4.m50",
   "type": "gcloud",
   "uri": "gcr.io/deeplearning-platform-release/pytorch-gpu.1-4:m50"
  },
  "kernelspec": {
   "display_name": "Python 3",
   "language": "python",
   "name": "python3"
  },
  "language_info": {
   "codemirror_mode": {
    "name": "ipython",
    "version": 3
   },
   "file_extension": ".py",
   "mimetype": "text/x-python",
   "name": "python",
   "nbconvert_exporter": "python",
   "pygments_lexer": "ipython3",
   "version": "3.7.6"
  }
 },
 "nbformat": 4,
 "nbformat_minor": 4
}
