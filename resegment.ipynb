{
 "cells": [
  {
   "cell_type": "code",
   "execution_count": 60,
   "metadata": {},
   "outputs": [
    {
     "name": "stdout",
     "output_type": "stream",
     "text": [
      "Requirement already satisfied: pip in /opt/conda/lib/python3.7/site-packages (20.2.4)\n",
      "Requirement already satisfied: mappy in /opt/conda/lib/python3.7/site-packages (2.17)\n",
      "Requirement already satisfied: pysam in /opt/conda/lib/python3.7/site-packages (0.16.0.1)\n"
     ]
    }
   ],
   "source": [
    "import sys\n",
    "!{sys.executable} -m pip install --use-feature=2020-resolver --upgrade pip mappy pysam"
   ]
  },
  {
   "cell_type": "code",
   "execution_count": 63,
   "metadata": {},
   "outputs": [],
   "source": [
    "import mappy as mp\n",
    "import random\n",
    "import re\n",
    "import matplotlib.pylab as plt"
   ]
  },
  {
   "cell_type": "code",
   "execution_count": 8,
   "metadata": {},
   "outputs": [],
   "source": [
    "def simulate_sequence(length):\n",
    "    alphabet = ['A', 'C', 'G', 'T']\n",
    "    \n",
    "    bases = random.choices(alphabet, k=length)\n",
    "    bases = ''.join(bases)\n",
    "    \n",
    "    return bases"
   ]
  },
  {
   "cell_type": "code",
   "execution_count": 9,
   "metadata": {},
   "outputs": [],
   "source": [
    "def reverse_complement(seq):\n",
    "    complement = {'A': 'T', 'C': 'G', 'G': 'C', 'T': 'A'}\n",
    "    \n",
    "    bases = list(seq) \n",
    "    bases = reversed([complement.get(base,base) for base in bases])\n",
    "    bases = ''.join(bases)\n",
    "\n",
    "    return bases"
   ]
  },
  {
   "cell_type": "code",
   "execution_count": 10,
   "metadata": {},
   "outputs": [],
   "source": [
    "def canonicalize_kmer(fw_kmer):\n",
    "    rc_kmer = reverse_complement(fw_kmer)\n",
    "    \n",
    "    return fw_kmer if fw_kmer < rc_kmer else rc_kmer"
   ]
  },
  {
   "cell_type": "code",
   "execution_count": 11,
   "metadata": {},
   "outputs": [],
   "source": [
    "def simulate_unsegmented_ccs_read(fw_seq, num_passes, ccs_fw_adapter, include_rc_adapter = False):\n",
    "    rc_seq = reverse_complement(fw_seq)\n",
    "    ccs_rc_adapter = reverse_complement(ccs_fw_adapter)\n",
    "    \n",
    "    subreads = []\n",
    "    for i in range(num_passes):\n",
    "        subreads.append(fw_seq if i % 2 == 0 else rc_seq)\n",
    "        \n",
    "        if i % 2 or include_rc_adapter:\n",
    "            subreads.append(ccs_fw_adapter if i % 2 == 0 else ccs_rc_adapter)\n",
    "        \n",
    "    return subreads"
   ]
  },
  {
   "cell_type": "code",
   "execution_count": 12,
   "metadata": {},
   "outputs": [],
   "source": [
    "def add_noise(seq, mismatch_rate=0, insertion_rate=0, deletion_rate=0):\n",
    "    mm_positions = int(mismatch_rate*len(seq))\n",
    "    ins_positions = int(insertion_rate*len(seq))\n",
    "    del_positions = int(deletion_rate*len(seq))\n",
    "    \n",
    "    newseq = list(seq)\n",
    "    \n",
    "    for i in range(mm_positions):\n",
    "        p = int(random.uniform(0, len(seq)))\n",
    "        newseq[p] = reverse_complement(newseq[p])\n",
    "\n",
    "    for i in range(ins_positions):\n",
    "        p = int(random.uniform(0, len(seq)))\n",
    "        l = int(random.uniform(2, 5))\n",
    "        newseq[p] = l*newseq[p]\n",
    "        \n",
    "    for i in range(del_positions):\n",
    "        p = int(random.uniform(0, len(seq)))\n",
    "        newseq[p] = ''\n",
    "\n",
    "    return ''.join(newseq)"
   ]
  },
  {
   "cell_type": "code",
   "execution_count": 91,
   "metadata": {},
   "outputs": [],
   "source": [
    "random.seed(0)\n",
    "\n",
    "fw_seq = simulate_sequence(1000)\n",
    "ccs_adapter = \"ATCTCTCTCAACAACAACAACGGAGGAGGAGGAAAAGAGAGAGAT\"\n",
    "\n",
    "noise_segment1 = simulate_sequence(20000)\n",
    "noise_segment2 = simulate_sequence(5000)\n",
    "segments = simulate_unsegmented_ccs_read(fw_seq, 10, ccs_adapter, include_rc_adapter=False)\n",
    "\n",
    "polymerase_read = add_noise(noise_segment1 + ''.join(segments) + noise_segment2, mismatch_rate=0.03, deletion_rate=0.03, insertion_rate=0.03)"
   ]
  },
  {
   "cell_type": "code",
   "execution_count": 92,
   "metadata": {},
   "outputs": [
    {
     "data": {
      "text/plain": [
       "36292"
      ]
     },
     "execution_count": 92,
     "metadata": {},
     "output_type": "execute_result"
    }
   ],
   "source": [
    "len(polymerase_read)"
   ]
  },
  {
   "cell_type": "code",
   "execution_count": 93,
   "metadata": {},
   "outputs": [],
   "source": [
    "f = open(\"tmp.fasta\", \"w\")\n",
    "f.write(f\">1\\n{polymerase_read}\")\n",
    "f.close()"
   ]
  },
  {
   "cell_type": "code",
   "execution_count": 94,
   "metadata": {},
   "outputs": [],
   "source": [
    "!mummer -mum -b -c tmp.fasta tmp.fasta > tmp.mums"
   ]
  },
  {
   "cell_type": "code",
   "execution_count": 117,
   "metadata": {},
   "outputs": [],
   "source": [
    "def read_mummer_mums_file(mums_file_path):\n",
    "    \"\"\"Reads the data from the mums file into a dictionary containing arrays of points.  \n",
    "    Returns a dictionary containing forward and reverse hits.\n",
    "    NOTE: Assumes only 1 sequence is in the mummers file with forward and reverse hits.\n",
    "    \"\"\"\n",
    "    line_regex = re.compile(r'(\\d+)\\s+(\\d+)\\s+(\\d+)')\n",
    "    data = {\"forward\": [], \"reverse\": []}\n",
    "    with open(mums_file_path, 'r') as f:\n",
    "        name = None\n",
    "        key = \"forward\"\n",
    "        for line in f:\n",
    "            # basic sanity check:\n",
    "            if not name and line[0] != '>':\n",
    "                    raise RuntimeError(\"Invalid file.  Mums entries must have sequence names (lines that start with '>') to start data blocks.\")\n",
    "            # Process the file:\n",
    "            if line[0] == '>':\n",
    "                name = line[1:].strip()\n",
    "                if name.endswith(\" Reverse\"):\n",
    "                    key = \"reverse\"\n",
    "                    name = name[0:-8]\n",
    "            else:\n",
    "                m = line_regex.match(line.strip())\n",
    "                x = int(m.group(1))\n",
    "                y = int(m.group(2))\n",
    "                l = int(m.group(3))\n",
    "                data[key].append([x,y,l])\n",
    "    return data, name\n",
    "\n",
    "def plot_mummer_data(name, data):\n",
    "    \"\"\"Plots the data from a mummers file as read in by `read_mummers_mums_file`.\"\"\"\n",
    "    forward_handle = None\n",
    "    reverse_handle = None\n",
    "    \n",
    "    fig = plt.figure(figsize=[10,10])\n",
    "    ax = fig.add_subplot(111)\n",
    "    ax.set_aspect('equal', adjustable='box')\n",
    "    \n",
    "    # Plot Forward hits:\n",
    "    for x,y,l in data['forward']:\n",
    "        # Forward hits take the X and Y as point 1\n",
    "        # For point 2, add L to both X and Y:\n",
    "        plt.plot([x, x+l], [y, y+l], '.k', markersize=5)\n",
    "        forward_handle, = plt.plot([x, x+l], [y, y+l], '-k', linewidth=2, label=\"Forward Alignments\")\n",
    "    # Plot reverse hits:\n",
    "    for x,y,l in data['reverse']:\n",
    "        # Reverse hits take the X and Y as point 1\n",
    "        # For point 2, add L to X and subtract L from Y:\n",
    "        reverse_handle, = plt.plot([x, x+l], [y, y-l], '.b', markersize=5, label=\"Reverse Alignments\")\n",
    "    return forward_handle, reverse_handle"
   ]
  },
  {
   "cell_type": "code",
   "execution_count": 118,
   "metadata": {},
   "outputs": [
    {
     "data": {
      "text/plain": [
       "(<matplotlib.lines.Line2D at 0x7f436813ba50>,\n",
       " <matplotlib.lines.Line2D at 0x7f4363f42ed0>)"
      ]
     },
     "execution_count": 118,
     "metadata": {},
     "output_type": "execute_result"
    },
    {
     "data": {
      "image/png": "[encoded data removed]",
      "text/plain": [
       "<Figure size 720x720 with 1 Axes>"
      ]
     },
     "metadata": {
      "needs_background": "light"
     },
     "output_type": "display_data"
    }
   ],
   "source": [
    "data, name = read_mummer_mums_file('tmp.mums')\n",
    "plot_mummer_data(name, data)"
   ]
  },
  {
   "cell_type": "code",
   "execution_count": 85,
   "metadata": {},
   "outputs": [
    {
     "data": {
      "text/plain": [
       "[[10307, 14418, 30],\n",
       " [10358, 16465, 30],\n",
       " [10419, 14302, 20],\n",
       " [10685, 14034, 22],\n",
       " [10728, 16087, 25],\n",
       " [10731, 18191, 29],\n",
       " [10816, 13897, 33],\n",
       " [10838, 11795, 22],\n",
       " [10864, 20180, 28],\n",
       " [10987, 13721, 28],\n",
       " [11162, 13564, 22],\n",
       " [11321, 17623, 23],\n",
       " [11350, 19703, 22],\n",
       " [11596, 19467, 25],\n",
       " [11774, 10859, 22],\n",
       " [11844, 19220, 28],\n",
       " [12106, 14719, 32],\n",
       " [12199, 16741, 21],\n",
       " [12323, 18714, 21],\n",
       " [12407, 16521, 29],\n",
       " [12589, 16336, 21],\n",
       " [12593, 14231, 23],\n",
       " [12764, 14057, 25],\n",
       " [12882, 20273, 29],\n",
       " [12922, 13898, 22],\n",
       " [13081, 20066, 26],\n",
       " [13132, 20015, 33],\n",
       " [13153, 13666, 23],\n",
       " [13236, 15686, 22],\n",
       " [13543, 11183, 22],\n",
       " [13644, 13175, 23],\n",
       " [13653, 19496, 20],\n",
       " [13694, 11014, 28],\n",
       " [13759, 19385, 20],\n",
       " [13865, 10848, 33],\n",
       " [13877, 12943, 22],\n",
       " [14011, 17015, 21],\n",
       " [14013, 10706, 22],\n",
       " [14033, 12788, 25],\n",
       " [14209, 12615, 23],\n",
       " [14232, 16796, 22],\n",
       " [14283, 10438, 20],\n",
       " [14389, 10336, 30],\n",
       " [14591, 18533, 21],\n",
       " [14592, 20663, 23],\n",
       " [14599, 16421, 21],\n",
       " [14688, 12137, 32],\n",
       " [14794, 16232, 22],\n",
       " [14795, 20460, 34],\n",
       " [14869, 16147, 24],\n",
       " [15283, 15736, 40],\n",
       " [15333, 15682, 23],\n",
       " [15483, 17655, 49],\n",
       " [15557, 17576, 24],\n",
       " [15660, 15355, 23],\n",
       " [15665, 13257, 22],\n",
       " [15672, 19583, 20],\n",
       " [15697, 15322, 40],\n",
       " [15725, 19533, 22],\n",
       " [15758, 19499, 21],\n",
       " [15846, 17288, 20],\n",
       " [16038, 19211, 24],\n",
       " [16063, 10752, 25],\n",
       " [16124, 14892, 24],\n",
       " [16211, 14815, 22],\n",
       " [16293, 18955, 21],\n",
       " [16316, 12609, 21],\n",
       " [16350, 16779, 28],\n",
       " [16401, 14619, 21],\n",
       " [16436, 10387, 30],\n",
       " [16493, 12435, 29],\n",
       " [16512, 18721, 24],\n",
       " [16625, 18604, 27],\n",
       " [16721, 12219, 21],\n",
       " [16752, 16377, 28],\n",
       " [16758, 20607, 23],\n",
       " [16766, 18468, 23],\n",
       " [16775, 14253, 22],\n",
       " [16861, 18377, 28],\n",
       " [16995, 14031, 21],\n",
       " [17086, 20276, 21],\n",
       " [17216, 18027, 29],\n",
       " [17269, 15865, 20],\n",
       " [17502, 19859, 24],\n",
       " [17553, 15580, 24],\n",
       " [17601, 11343, 23],\n",
       " [17602, 17651, 50],\n",
       " [17607, 15531, 49],\n",
       " [17641, 19720, 24],\n",
       " [17719, 19642, 33],\n",
       " [17884, 19477, 34],\n",
       " [17999, 17244, 29],\n",
       " [18163, 10759, 29],\n",
       " [18350, 16888, 28],\n",
       " [18446, 16788, 23],\n",
       " [18513, 14611, 21],\n",
       " [18578, 16651, 27],\n",
       " [18693, 20772, 21],\n",
       " [18694, 12343, 21],\n",
       " [18698, 16535, 24],\n",
       " [18770, 20692, 22],\n",
       " [18935, 16313, 21],\n",
       " [19188, 16061, 24],\n",
       " [19193, 11871, 28],\n",
       " [19366, 13778, 20],\n",
       " [19377, 20096, 22],\n",
       " [19443, 11620, 25],\n",
       " [19444, 17917, 34],\n",
       " [19477, 13672, 20],\n",
       " [19479, 15778, 21],\n",
       " [19500, 19975, 26],\n",
       " [19512, 15746, 22],\n",
       " [19564, 15691, 20],\n",
       " [19590, 19885, 25],\n",
       " [19610, 17751, 33],\n",
       " [19635, 19841, 24],\n",
       " [19682, 11371, 22],\n",
       " [19697, 17664, 24],\n",
       " [19818, 19658, 24],\n",
       " [19836, 17525, 24],\n",
       " [19861, 19614, 25],\n",
       " [19950, 19525, 26],\n",
       " [19983, 13164, 33],\n",
       " [20041, 13106, 26],\n",
       " [20075, 19398, 22],\n",
       " [20153, 10891, 28],\n",
       " [20245, 12910, 29],\n",
       " [20256, 17106, 21],\n",
       " [20427, 14828, 34],\n",
       " [20585, 16780, 23],\n",
       " [20641, 14614, 23],\n",
       " [20671, 18791, 22],\n",
       " [20752, 18713, 21]]"
      ]
     },
     "execution_count": 85,
     "metadata": {},
     "output_type": "execute_result"
    }
   ],
   "source": [
    "data['reverse']"
   ]
  },
  {
   "cell_type": "code",
   "execution_count": null,
   "metadata": {},
   "outputs": [],
   "source": []
  }
 ],
 "metadata": {
  "environment": {
   "name": "pytorch-gpu.1-4.m50",
   "type": "gcloud",
   "uri": "gcr.io/deeplearning-platform-release/pytorch-gpu.1-4:m50"
  },
  "kernelspec": {
   "display_name": "Python 3",
   "language": "python",
   "name": "python3"
  },
  "language_info": {
   "codemirror_mode": {
    "name": "ipython",
    "version": 3
   },
   "file_extension": ".py",
   "mimetype": "text/x-python",
   "name": "python",
   "nbconvert_exporter": "python",
   "pygments_lexer": "ipython3",
   "version": "3.7.6"
  }
 },
 "nbformat": 4,
 "nbformat_minor": 4
}
